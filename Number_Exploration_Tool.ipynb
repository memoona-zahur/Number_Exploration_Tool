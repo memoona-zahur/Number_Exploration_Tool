{
 "cells": [
  {
   "cell_type": "markdown",
   "metadata": {},
   "source": [
    "**Number** **Exploration** **Tool**"
   ]
  },
  {
   "cell_type": "code",
   "execution_count": 1,
   "metadata": {},
   "outputs": [
    {
     "name": "stdout",
     "output_type": "stream",
     "text": [
      "Welcome to the Number Explorer Tool!\n"
     ]
    }
   ],
   "source": [
    "print(\"Welcome to the Number Explorer Tool!\")"
   ]
  },
  {
   "cell_type": "code",
   "execution_count": 2,
   "metadata": {},
   "outputs": [
    {
     "name": "stdout",
     "output_type": "stream",
     "text": [
      "Enter your name: Memoona\n"
     ]
    }
   ],
   "source": [
    "name: str = input(\"Enter your name: \")\n",
    "print(f\"Enter your name: {name}\")"
   ]
  },
  {
   "cell_type": "code",
   "execution_count": 3,
   "metadata": {},
   "outputs": [
    {
     "name": "stdout",
     "output_type": "stream",
     "text": [
      "Enter your favorite number 1: 4\n",
      "Enter your favorite number 2: 6\n",
      "Enter your favorite number 3: 9\n"
     ]
    }
   ],
   "source": [
    "favorite_numbers: list = []\n",
    "\n",
    "for i in range(1, 4):\n",
    "    num: int = int(input(f\"Enter your favorite number {i}: \"))\n",
    "    print(f\"Enter your favorite number {i}: {num}\")\n",
    "    favorite_numbers.append(num)"
   ]
  },
  {
   "cell_type": "code",
   "execution_count": 4,
   "metadata": {},
   "outputs": [
    {
     "name": "stdout",
     "output_type": "stream",
     "text": [
      "Hello, Memoona! Let's explore your favorite numbers:\n"
     ]
    }
   ],
   "source": [
    "print(f\"Hello, {name}! Let's explore your favorite numbers:\")"
   ]
  },
  {
   "cell_type": "code",
   "execution_count": 5,
   "metadata": {},
   "outputs": [
    {
     "name": "stdout",
     "output_type": "stream",
     "text": [
      "[(4, 'even'), (6, 'even'), (9, 'odd')]\n"
     ]
    }
   ],
   "source": [
    "even_odd_list: list = []\n",
    "\n",
    "for num in favorite_numbers:\n",
    "    if num % 2 == 0:\n",
    "        even_odd_list.append((num, \"even\"))\n",
    "    else:\n",
    "        even_odd_list.append((num, \"odd\"))\n",
    "print(f\"{even_odd_list}\")"
   ]
  },
  {
   "cell_type": "code",
   "execution_count": 6,
   "metadata": {},
   "outputs": [
    {
     "name": "stdout",
     "output_type": "stream",
     "text": [
      "The number 4 is even.\n",
      "The number 6 is even.\n",
      "The number 9 is odd.\n"
     ]
    }
   ],
   "source": [
    "for num, even_odd in even_odd_list:\n",
    "    print(f\"The number {num} is {even_odd}.\")"
   ]
  },
  {
   "cell_type": "code",
   "execution_count": 7,
   "metadata": {},
   "outputs": [
    {
     "name": "stdout",
     "output_type": "stream",
     "text": [
      "[(4, 16), (6, 36), (9, 81)]\n"
     ]
    }
   ],
   "source": [
    "squares_list: list = []\n",
    "\n",
    "for num in favorite_numbers:\n",
    "    square_tuple: tuple = (num, num ** 2)\n",
    "    squares_list.append(square_tuple)\n",
    "print(f\"{squares_list}\")"
   ]
  },
  {
   "cell_type": "code",
   "execution_count": 8,
   "metadata": {},
   "outputs": [
    {
     "name": "stdout",
     "output_type": "stream",
     "text": [
      "The number 4 and its square: (4, 16)\n",
      "The number 6 and its square: (6, 36)\n",
      "The number 9 and its square: (9, 81)\n"
     ]
    }
   ],
   "source": [
    "for num, square in squares_list:\n",
    "    print(f\"The number {num} and its square: ({num}, {square})\")"
   ]
  },
  {
   "cell_type": "code",
   "execution_count": 9,
   "metadata": {},
   "outputs": [
    {
     "name": "stdout",
     "output_type": "stream",
     "text": [
      "Amazing! The sum of your favorite numbers is: 19\n"
     ]
    }
   ],
   "source": [
    "sum_of_numbers: int = sum(favorite_numbers)\n",
    "print(f\"Amazing! The sum of your favorite numbers is: {sum_of_numbers}\")"
   ]
  },
  {
   "cell_type": "code",
   "execution_count": 10,
   "metadata": {},
   "outputs": [],
   "source": [
    "def is_prime(n):\n",
    "    if n <= 1:\n",
    "        return False\n",
    "    if n <= 3:\n",
    "        return True\n",
    "    if n % 2 == 0 or n % 3 == 0:\n",
    "        return False\n",
    "    i = 5\n",
    "    while i * i <= n:\n",
    "        if n % i == 0 or n % (i + 2) == 0:\n",
    "            return False\n",
    "        i += 6\n",
    "    return True"
   ]
  },
  {
   "cell_type": "code",
   "execution_count": 11,
   "metadata": {},
   "outputs": [
    {
     "name": "stdout",
     "output_type": "stream",
     "text": [
      "Wow, 19 is a prime number!\n"
     ]
    }
   ],
   "source": [
    "if is_prime(sum_of_numbers):\n",
    "    print(f\"Wow, {sum_of_numbers} is a prime number!\")\n",
    "else:\n",
    "    print(f\"{sum_of_numbers} is not a prime number.\")"
   ]
  }
 ],
 "metadata": {
  "kernelspec": {
   "display_name": "Python 3",
   "language": "python",
   "name": "python3"
  },
  "language_info": {
   "codemirror_mode": {
    "name": "ipython",
    "version": 3
   },
   "file_extension": ".py",
   "mimetype": "text/x-python",
   "name": "python",
   "nbconvert_exporter": "python",
   "pygments_lexer": "ipython3",
   "version": "3.12.4"
  },
  "orig_nbformat": 4
 },
 "nbformat": 4,
 "nbformat_minor": 2
}
